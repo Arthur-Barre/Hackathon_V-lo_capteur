{
 "cells": [
  {
   "cell_type": "code",
   "execution_count": 1,
   "id": "39c4619d-a6c9-4f8b-82b3-6e0a2ad72eb5",
   "metadata": {},
   "outputs": [],
   "source": [
    "import numpy as np\n",
    "import pandas as pd\n",
    "import folium \n",
    "\n",
    "from folium.plugins import HeatMap\n",
    "from gestion_donnees import data_pollution"
   ]
  },
  {
   "cell_type": "code",
   "execution_count": 2,
   "id": "da2fd67e-2456-44f9-844f-a8e8a5b91ab6",
   "metadata": {},
   "outputs": [],
   "source": [
    "QA=pd.read_csv(\"indices_QA_commune_IDF_04_2018.csv\")\n"
   ]
  },
  {
   "cell_type": "code",
   "execution_count": 10,
   "id": "e8b20e31-8f55-435b-9dbc-b9e8a2c5cee8",
   "metadata": {},
   "outputs": [
    {
     "data": {
      "text/html": [
       "<div>\n",
       "<style scoped>\n",
       "    .dataframe tbody tr th:only-of-type {\n",
       "        vertical-align: middle;\n",
       "    }\n",
       "\n",
       "    .dataframe tbody tr th {\n",
       "        vertical-align: top;\n",
       "    }\n",
       "\n",
       "    .dataframe thead th {\n",
       "        text-align: right;\n",
       "    }\n",
       "</style>\n",
       "<table border=\"1\" class=\"dataframe\">\n",
       "  <thead>\n",
       "    <tr style=\"text-align: right;\">\n",
       "      <th></th>\n",
       "      <th>Latitude</th>\n",
       "      <th>Longitude</th>\n",
       "      <th>PM2.5</th>\n",
       "    </tr>\n",
       "  </thead>\n",
       "  <tbody>\n",
       "    <tr>\n",
       "      <th>0</th>\n",
       "      <td>48.850147</td>\n",
       "      <td>2.359500</td>\n",
       "      <td>5</td>\n",
       "    </tr>\n",
       "    <tr>\n",
       "      <th>1</th>\n",
       "      <td>48.847631</td>\n",
       "      <td>2.349471</td>\n",
       "      <td>18</td>\n",
       "    </tr>\n",
       "    <tr>\n",
       "      <th>2</th>\n",
       "      <td>48.862059</td>\n",
       "      <td>2.361284</td>\n",
       "      <td>4</td>\n",
       "    </tr>\n",
       "    <tr>\n",
       "      <th>3</th>\n",
       "      <td>48.840896</td>\n",
       "      <td>2.346038</td>\n",
       "      <td>25</td>\n",
       "    </tr>\n",
       "    <tr>\n",
       "      <th>4</th>\n",
       "      <td>48.835355</td>\n",
       "      <td>2.350740</td>\n",
       "      <td>95</td>\n",
       "    </tr>\n",
       "  </tbody>\n",
       "</table>\n",
       "</div>"
      ],
      "text/plain": [
       "    Latitude  Longitude  PM2.5\n",
       "0  48.850147   2.359500      5\n",
       "1  48.847631   2.349471     18\n",
       "2  48.862059   2.361284      4\n",
       "3  48.840896   2.346038     25\n",
       "4  48.835355   2.350740     95"
      ]
     },
     "execution_count": 10,
     "metadata": {},
     "output_type": "execute_result"
    }
   ],
   "source": [
    "##GRAPHE DE TEST POUR LA HEATMAP\n",
    "# Nombre d'entrées\n",
    "n = 200\n",
    "\n",
    "# Coordonnées centrées sur Paris\n",
    "latitude_center = 48.8566\n",
    "longitude_center = 2.3522\n",
    "\n",
    "# Générer des coordonnées proches de Paris\n",
    "latitudes = np.round(np.random.normal(loc=latitude_center, scale=0.01, size=n), 6)\n",
    "longitudes = np.round(np.random.normal(loc=longitude_center, scale=0.01, size=n), 6)\n",
    "\n",
    "# Générer des valeurs aléatoires de PM2.5 entre 1 et 100\n",
    "pm25_values = np.random.randint(1, 101, size=n)\n",
    "\n",
    "# Créer la structure attendue\n",
    "data = [[lat, lon, pm] for lat, lon, pm in zip(latitudes, longitudes, pm25_values)]\n",
    "\n",
    "# Créer le DataFrame sous la forme demandée\n",
    "test = pd.DataFrame(data, columns=['Latitude', 'Longitude', 'PM2.5'])\n",
    "\n",
    "#test=pd.DataFrame([[48.86,2.356,10],[48.90,2.35,40],[48.87,2.357,60],[48.88,2.359,90]],columns=['Latitude','Longitude','PM2.5'])\n",
    "test.head()"
   ]
  },
  {
   "cell_type": "code",
   "execution_count": 11,
   "id": "55ceff86-0169-4e41-9a5e-275ae718c840",
   "metadata": {},
   "outputs": [],
   "source": [
    "latitude = 48.8566\n",
    "longitude = 2.3522\n",
    "zoom=13\n",
    "carte=folium.Map(location=[latitude,longitude],tiles=\"OpenStreetMap\", zoom_start=zoom)\n",
    "\n",
    "pollution = 42\n",
    "\n",
    "#folium.Marker(location=[latitude,longitude], popup=f\"Nox ={pollution} micro_g/m3\", icon=folium.Icon(icon=\"cloud\")).add_to(carte);"
   ]
  },
  {
   "cell_type": "code",
   "execution_count": 12,
   "id": "48e0eb3e-e9ec-46b1-a664-e858ddcf2061",
   "metadata": {},
   "outputs": [],
   "source": [
    "def niveau_couleur(value):\n",
    "    if value <= 25 :\n",
    "        return 'lightgreen'\n",
    "    elif 25<value<=50 :\n",
    "        return 'green'\n",
    "    elif 50<value<=75 :\n",
    "        return 'orange'\n",
    "    else :\n",
    "        return 'red'"
   ]
  },
  {
   "cell_type": "code",
   "execution_count": 6,
   "id": "835704d3-fc28-45da-b0dc-8fcc702776d0",
   "metadata": {},
   "outputs": [],
   "source": [
    "#for index, row  in test.iterrows():\n",
    "    #col=niveau_couleur(row['PM2.5'])\n",
    "    #folium.Marker(location=[row['Latitude'],row['Longitude']], tooltip=f\"Nox = {row['PM2.5']} micro_g/m3\", icon=folium.Icon(icon=\"cloud\",color=col)).add_to(carte);\n",
    "    \n"
   ]
  },
  {
   "cell_type": "code",
   "execution_count": 13,
   "id": "a0a6ec91",
   "metadata": {},
   "outputs": [
    {
     "data": {
      "text/plain": [
       "<folium.plugins.heat_map.HeatMap at 0x1aec44ef560>"
      ]
     },
     "execution_count": 13,
     "metadata": {},
     "output_type": "execute_result"
    }
   ],
   "source": [
    "HeatMap(test).add_to(carte)"
   ]
  },
  {
   "cell_type": "code",
   "execution_count": 8,
   "id": "6eb22b72-86b4-4534-8a25-9879cea5a1b1",
   "metadata": {},
   "outputs": [],
   "source": [
    "carte.save(\"carte_pollution.html\")"
   ]
  },
  {
   "cell_type": "code",
   "execution_count": 14,
   "id": "53bf1b34-962c-4c0c-9594-8aee7e43d5e7",
   "metadata": {},
   "outputs": [
    {
     "data": {
      "text/html": [
       "<div style=\"width:100%;\"><div style=\"position:relative;width:100%;height:0;padding-bottom:60%;\"><span style=\"color:#565656\">Make this Notebook Trusted to load map: File -> Trust Notebook</span><iframe srcdoc=\"&lt;!DOCTYPE html&gt;\n",
       "&lt;html&gt;\n",
       "&lt;head&gt;\n",
       "    \n",
       "    &lt;meta http-equiv=&quot;content-type&quot; content=&quot;text/html; charset=UTF-8&quot; /&gt;\n",
       "    &lt;script src=&quot;https://cdn.jsdelivr.net/npm/leaflet@1.9.3/dist/leaflet.js&quot;&gt;&lt;/script&gt;\n",
       "    &lt;script src=&quot;https://code.jquery.com/jquery-3.7.1.min.js&quot;&gt;&lt;/script&gt;\n",
       "    &lt;script src=&quot;https://cdn.jsdelivr.net/npm/bootstrap@5.2.2/dist/js/bootstrap.bundle.min.js&quot;&gt;&lt;/script&gt;\n",
       "    &lt;script src=&quot;https://cdnjs.cloudflare.com/ajax/libs/Leaflet.awesome-markers/2.0.2/leaflet.awesome-markers.js&quot;&gt;&lt;/script&gt;\n",
       "    &lt;link rel=&quot;stylesheet&quot; href=&quot;https://cdn.jsdelivr.net/npm/leaflet@1.9.3/dist/leaflet.css&quot;/&gt;\n",
       "    &lt;link rel=&quot;stylesheet&quot; href=&quot;https://cdn.jsdelivr.net/npm/bootstrap@5.2.2/dist/css/bootstrap.min.css&quot;/&gt;\n",
       "    &lt;link rel=&quot;stylesheet&quot; href=&quot;https://netdna.bootstrapcdn.com/bootstrap/3.0.0/css/bootstrap-glyphicons.css&quot;/&gt;\n",
       "    &lt;link rel=&quot;stylesheet&quot; href=&quot;https://cdn.jsdelivr.net/npm/@fortawesome/fontawesome-free@6.2.0/css/all.min.css&quot;/&gt;\n",
       "    &lt;link rel=&quot;stylesheet&quot; href=&quot;https://cdnjs.cloudflare.com/ajax/libs/Leaflet.awesome-markers/2.0.2/leaflet.awesome-markers.css&quot;/&gt;\n",
       "    &lt;link rel=&quot;stylesheet&quot; href=&quot;https://cdn.jsdelivr.net/gh/python-visualization/folium/folium/templates/leaflet.awesome.rotate.min.css&quot;/&gt;\n",
       "    \n",
       "            &lt;meta name=&quot;viewport&quot; content=&quot;width=device-width,\n",
       "                initial-scale=1.0, maximum-scale=1.0, user-scalable=no&quot; /&gt;\n",
       "            &lt;style&gt;\n",
       "                #map_15f5be7dd61584592eada7d6540b9d79 {\n",
       "                    position: relative;\n",
       "                    width: 100.0%;\n",
       "                    height: 100.0%;\n",
       "                    left: 0.0%;\n",
       "                    top: 0.0%;\n",
       "                }\n",
       "                .leaflet-container { font-size: 1rem; }\n",
       "            &lt;/style&gt;\n",
       "\n",
       "            &lt;style&gt;html, body {\n",
       "                width: 100%;\n",
       "                height: 100%;\n",
       "                margin: 0;\n",
       "                padding: 0;\n",
       "            }\n",
       "            &lt;/style&gt;\n",
       "\n",
       "            &lt;style&gt;#map {\n",
       "                position:absolute;\n",
       "                top:0;\n",
       "                bottom:0;\n",
       "                right:0;\n",
       "                left:0;\n",
       "                }\n",
       "            &lt;/style&gt;\n",
       "\n",
       "            &lt;script&gt;\n",
       "                L_NO_TOUCH = false;\n",
       "                L_DISABLE_3D = false;\n",
       "            &lt;/script&gt;\n",
       "\n",
       "        \n",
       "    &lt;script src=&quot;https://cdn.jsdelivr.net/gh/python-visualization/folium@main/folium/templates/leaflet_heat.min.js&quot;&gt;&lt;/script&gt;\n",
       "&lt;/head&gt;\n",
       "&lt;body&gt;\n",
       "    \n",
       "    \n",
       "            &lt;div class=&quot;folium-map&quot; id=&quot;map_15f5be7dd61584592eada7d6540b9d79&quot; &gt;&lt;/div&gt;\n",
       "        \n",
       "&lt;/body&gt;\n",
       "&lt;script&gt;\n",
       "    \n",
       "    \n",
       "            var map_15f5be7dd61584592eada7d6540b9d79 = L.map(\n",
       "                &quot;map_15f5be7dd61584592eada7d6540b9d79&quot;,\n",
       "                {\n",
       "                    center: [48.8566, 2.3522],\n",
       "                    crs: L.CRS.EPSG3857,\n",
       "                    ...{\n",
       "  &quot;zoom&quot;: 13,\n",
       "  &quot;zoomControl&quot;: true,\n",
       "  &quot;preferCanvas&quot;: false,\n",
       "}\n",
       "\n",
       "                }\n",
       "            );\n",
       "\n",
       "            \n",
       "\n",
       "        \n",
       "    \n",
       "            var tile_layer_293b50854ff6c40b3828ecf62ed2b783 = L.tileLayer(\n",
       "                &quot;https://tile.openstreetmap.org/{z}/{x}/{y}.png&quot;,\n",
       "                {\n",
       "  &quot;minZoom&quot;: 0,\n",
       "  &quot;maxZoom&quot;: 19,\n",
       "  &quot;maxNativeZoom&quot;: 19,\n",
       "  &quot;noWrap&quot;: false,\n",
       "  &quot;attribution&quot;: &quot;\\u0026copy; \\u003ca href=\\&quot;https://www.openstreetmap.org/copyright\\&quot;\\u003eOpenStreetMap\\u003c/a\\u003e contributors&quot;,\n",
       "  &quot;subdomains&quot;: &quot;abc&quot;,\n",
       "  &quot;detectRetina&quot;: false,\n",
       "  &quot;tms&quot;: false,\n",
       "  &quot;opacity&quot;: 1,\n",
       "}\n",
       "\n",
       "            );\n",
       "        \n",
       "    \n",
       "            tile_layer_293b50854ff6c40b3828ecf62ed2b783.addTo(map_15f5be7dd61584592eada7d6540b9d79);\n",
       "        \n",
       "    \n",
       "            var heat_map_ccbb00e0a9d7486e83d5b0d35bfca1ed = L.heatLayer(\n",
       "                [[48.850147, 2.3595, 5.0], [48.847631, 2.349471, 18.0], [48.862059, 2.361284, 4.0], [48.840896, 2.346038, 25.0], [48.835355, 2.35074, 95.0], [48.859463, 2.332929, 20.0], [48.840861, 2.355635, 25.0], [48.840466, 2.339237, 2.0], [48.855657, 2.344686, 76.0], [48.847814, 2.358083, 67.0], [48.854693, 2.339662, 72.0], [48.857893, 2.347619, 53.0], [48.866326, 2.35867, 76.0], [48.865336, 2.352908, 27.0], [48.859172, 2.354981, 54.0], [48.860581, 2.347092, 94.0], [48.844713, 2.361849, 98.0], [48.864306, 2.362834, 68.0], [48.864033, 2.357174, 98.0], [48.858597, 2.354747, 73.0], [48.876961, 2.362599, 58.0], [48.834298, 2.374984, 50.0], [48.850072, 2.365222, 91.0], [48.842525, 2.355371, 88.0], [48.874876, 2.346926, 24.0], [48.844477, 2.34066, 94.0], [48.867498, 2.351445, 28.0], [48.866178, 2.357855, 43.0], [48.857414, 2.355787, 10.0], [48.859251, 2.354606, 78.0], [48.848921, 2.349138, 92.0], [48.879927, 2.336431, 53.0], [48.839645, 2.362533, 70.0], [48.854879, 2.342557, 58.0], [48.849992, 2.346503, 57.0], [48.858525, 2.343944, 24.0], [48.866115, 2.355846, 18.0], [48.857454, 2.358979, 14.0], [48.847602, 2.349184, 21.0], [48.862929, 2.378631, 50.0], [48.85849, 2.385913, 57.0], [48.852726, 2.3535, 44.0], [48.861191, 2.363074, 40.0], [48.851104, 2.351519, 29.0], [48.858172, 2.356451, 86.0], [48.852001, 2.35718, 56.0], [48.872742, 2.364587, 49.0], [48.85913, 2.350041, 71.0], [48.852839, 2.338149, 33.0], [48.846771, 2.359537, 85.0], [48.854118, 2.355481, 9.0], [48.841651, 2.364695, 19.0], [48.859486, 2.338878, 32.0], [48.866366, 2.341411, 3.0], [48.867104, 2.326542, 28.0], [48.854621, 2.35491, 13.0], [48.855047, 2.344838, 81.0], [48.858316, 2.365848, 16.0], [48.85479, 2.350497, 10.0], [48.865064, 2.340996, 1.0], [48.846407, 2.352977, 56.0], [48.86169, 2.359376, 89.0], [48.864974, 2.348784, 58.0], [48.855567, 2.354736, 59.0], [48.856282, 2.339462, 61.0], [48.868341, 2.3545, 18.0], [48.873744, 2.336532, 52.0], [48.873895, 2.371921, 23.0], [48.856316, 2.34113, 43.0], [48.857634, 2.349827, 49.0], [48.859731, 2.35485, 12.0], [48.851801, 2.349425, 46.0], [48.861443, 2.365378, 28.0], [48.846418, 2.361221, 2.0], [48.869553, 2.370137, 79.0], [48.841962, 2.360845, 42.0], [48.85142, 2.370797, 47.0], [48.854204, 2.345261, 97.0], [48.865856, 2.363379, 8.0], [48.857336, 2.345908, 86.0], [48.85441, 2.355194, 16.0], [48.852985, 2.363019, 83.0], [48.873335, 2.351888, 68.0], [48.863845, 2.373341, 53.0], [48.865643, 2.349113, 84.0], [48.847833, 2.341928, 88.0], [48.863701, 2.356832, 11.0], [48.846842, 2.342848, 56.0], [48.85323, 2.3682, 92.0], [48.846891, 2.356897, 99.0], [48.863218, 2.349429, 61.0], [48.866512, 2.351801, 62.0], [48.855806, 2.350803, 69.0], [48.849842, 2.355557, 51.0], [48.850748, 2.350035, 33.0], [48.865762, 2.336485, 26.0], [48.884161, 2.342374, 89.0], [48.868641, 2.348891, 24.0], [48.864907, 2.37022, 78.0], [48.851538, 2.35146, 79.0], [48.86284, 2.358924, 44.0], [48.862742, 2.35296, 61.0], [48.84782, 2.349534, 5.0], [48.863712, 2.352265, 93.0], [48.865049, 2.360799, 81.0], [48.85121, 2.352566, 74.0], [48.853649, 2.350536, 52.0], [48.845452, 2.3739, 75.0], [48.882163, 2.341374, 32.0], [48.85408, 2.355877, 68.0], [48.872481, 2.34538, 67.0], [48.841077, 2.355593, 86.0], [48.854366, 2.347565, 60.0], [48.86128, 2.357647, 87.0], [48.870787, 2.360619, 21.0], [48.8556, 2.336462, 69.0], [48.857313, 2.350909, 49.0], [48.850129, 2.359446, 28.0], [48.848459, 2.348681, 14.0], [48.842331, 2.36962, 64.0], [48.840874, 2.352475, 11.0], [48.839911, 2.34935, 8.0], [48.85011, 2.341762, 5.0], [48.854794, 2.331704, 40.0], [48.875732, 2.360023, 34.0], [48.83854, 2.352001, 59.0], [48.853012, 2.359941, 52.0], [48.856657, 2.331212, 99.0], [48.850986, 2.337297, 78.0], [48.854762, 2.342896, 81.0], [48.849665, 2.357085, 98.0], [48.855298, 2.354242, 49.0], [48.849176, 2.337064, 54.0], [48.854572, 2.351177, 61.0], [48.848126, 2.365602, 90.0], [48.869131, 2.346156, 50.0], [48.866599, 2.337544, 64.0], [48.855753, 2.347022, 100.0], [48.856611, 2.355554, 25.0], [48.845916, 2.366151, 42.0], [48.852751, 2.371629, 88.0], [48.875187, 2.366661, 80.0], [48.864394, 2.347541, 43.0], [48.8512, 2.361726, 34.0], [48.869168, 2.350926, 82.0], [48.872727, 2.345291, 51.0], [48.849335, 2.335003, 13.0], [48.874233, 2.34962, 57.0], [48.864159, 2.341939, 39.0], [48.845675, 2.345376, 46.0], [48.857695, 2.350829, 2.0], [48.847099, 2.355539, 11.0], [48.851778, 2.372467, 91.0], [48.871735, 2.367986, 78.0], [48.851814, 2.341214, 28.0], [48.85565, 2.339684, 70.0], [48.844693, 2.371337, 17.0], [48.850051, 2.33778, 44.0], [48.845437, 2.352411, 66.0], [48.844777, 2.338781, 12.0], [48.850667, 2.348348, 53.0], [48.865544, 2.354209, 62.0], [48.857492, 2.357944, 57.0], [48.871632, 2.35623, 87.0], [48.865837, 2.357737, 17.0], [48.86588, 2.341003, 86.0], [48.866473, 2.347383, 9.0], [48.852947, 2.342467, 64.0], [48.86096, 2.360708, 89.0], [48.868461, 2.35383, 70.0], [48.854977, 2.346825, 70.0], [48.867152, 2.361995, 96.0], [48.867024, 2.346944, 81.0], [48.847084, 2.36003, 40.0], [48.847376, 2.35268, 23.0], [48.837456, 2.332445, 92.0], [48.86879, 2.351158, 32.0], [48.858741, 2.345521, 55.0], [48.848932, 2.353192, 49.0], [48.844337, 2.357776, 50.0], [48.882998, 2.344159, 75.0], [48.853976, 2.340809, 18.0], [48.879396, 2.348632, 55.0], [48.859762, 2.33632, 74.0], [48.847431, 2.32914, 54.0], [48.864986, 2.352361, 44.0], [48.863733, 2.3558, 78.0], [48.86192, 2.344788, 35.0], [48.862395, 2.33292, 93.0], [48.855304, 2.341833, 40.0], [48.859162, 2.34848, 59.0], [48.860136, 2.363858, 61.0], [48.854835, 2.361788, 56.0], [48.844201, 2.351216, 25.0], [48.852981, 2.357955, 98.0], [48.852272, 2.348324, 42.0], [48.86398, 2.363875, 14.0], [48.849434, 2.350586, 51.0], [48.8603, 2.343559, 92.0], [48.847068, 2.350308, 33.0]],\n",
       "                {\n",
       "  &quot;minOpacity&quot;: 0.5,\n",
       "  &quot;maxZoom&quot;: 18,\n",
       "  &quot;radius&quot;: 25,\n",
       "  &quot;blur&quot;: 15,\n",
       "}\n",
       "            );\n",
       "        \n",
       "    \n",
       "            heat_map_ccbb00e0a9d7486e83d5b0d35bfca1ed.addTo(map_15f5be7dd61584592eada7d6540b9d79);\n",
       "        \n",
       "&lt;/script&gt;\n",
       "&lt;/html&gt;\" style=\"position:absolute;width:100%;height:100%;left:0;top:0;border:none !important;\" allowfullscreen webkitallowfullscreen mozallowfullscreen></iframe></div></div>"
      ],
      "text/plain": [
       "<folium.folium.Map at 0x1aec452e6f0>"
      ]
     },
     "metadata": {},
     "output_type": "display_data"
    }
   ],
   "source": [
    "display(carte)"
   ]
  },
  {
   "cell_type": "code",
   "execution_count": null,
   "id": "a501f244-a111-4c91-918a-15d663509764",
   "metadata": {},
   "outputs": [],
   "source": []
  }
 ],
 "metadata": {
  "kernelspec": {
   "display_name": "base",
   "language": "python",
   "name": "python3"
  },
  "language_info": {
   "codemirror_mode": {
    "name": "ipython",
    "version": 3
   },
   "file_extension": ".py",
   "mimetype": "text/x-python",
   "name": "python",
   "nbconvert_exporter": "python",
   "pygments_lexer": "ipython3",
   "version": "3.12.4"
  }
 },
 "nbformat": 4,
 "nbformat_minor": 5
}
